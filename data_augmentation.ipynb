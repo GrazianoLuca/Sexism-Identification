{
 "cells": [
  {
   "cell_type": "code",
   "execution_count": null,
   "metadata": {},
   "outputs": [],
   "source": [
    "import pandas as pd\n",
    "\n",
    "df = pd.read_csv(\"cleaned_english_data.csv\")\n",
    "\n",
    "list_of_languages = [\"it\", \"es\", \"fr\", \"de\", \"pt\"]\n",
    "df_augmented_full = df.copy()"
   ]
  },
  {
   "cell_type": "code",
   "execution_count": null,
   "metadata": {},
   "outputs": [],
   "source": [
    "def data_augmentation(text, translation_language):\n",
    "\n",
    "  '''\n",
    "    Function that translates text to italian and back to English for data augmentation\n",
    "  '''\n",
    "  from deep_translator import GoogleTranslator\n",
    "  \n",
    "  text = GoogleTranslator(source=\"en\", target=translation_language).translate(text)\n",
    "  en_text = GoogleTranslator(source=translation_language, target=\"en\").translate(text)\n",
    "  return en_text"
   ]
  },
  {
   "cell_type": "code",
   "execution_count": null,
   "metadata": {},
   "outputs": [],
   "source": [
    "for language in list_of_languages:\n",
    "   # translation API call\n",
    "   augmented_list = df[df.sexist == True].text.apply(lambda x: data_augmentation(x, language)) \n",
    "\n",
    "\n",
    "  # Process data\n",
    "   cols = [\"text\", \"sexist\"]\n",
    "   df_augmented_language = pd.DataFrame(augmented_list, columns=cols)\n",
    "   df_augmented_language[\"sexist\"] = True\n",
    "  # Concatenate files\n",
    "   pd.concat([df_augmented_full, df_augmented_language], axis=0)\n"
   ]
  },
  {
   "cell_type": "code",
   "execution_count": null,
   "metadata": {},
   "outputs": [],
   "source": [
    "# Export\n",
    "df_augmented_full.to_csv(\"./output/augmented_english_data.csv\", index=False)"
   ]
  }
 ],
 "metadata": {
  "language_info": {
   "name": "python"
  },
  "orig_nbformat": 4
 },
 "nbformat": 4,
 "nbformat_minor": 2
}
